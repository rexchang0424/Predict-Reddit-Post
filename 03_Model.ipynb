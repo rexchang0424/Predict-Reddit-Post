{
 "cells": [
  {
   "cell_type": "markdown",
   "metadata": {},
   "source": [
    "# Modeling\n",
    "#### Contents:\n",
    "- [Baseline Model](#Baseline-Model)\n",
    "- [Machine Learning Model: Logistic Regression](#Machine-Learning-Model%3A-Logistic-Regression)\n",
    "- [Machine Learning Model: Naive Bayes (Multinomial NB)](#Machine-Learning-Model%3A-Naive-Bayes-(Multinomial-NB))\n",
    "- [Machine Learning Model: Random Forest Classifier](#Machine-Learning-Model%3A-Random-Forest-Classifier)\n",
    "---"
   ]
  },
  {
   "cell_type": "markdown",
   "metadata": {},
   "source": [
    "### Importing libaries"
   ]
  },
  {
   "cell_type": "code",
   "execution_count": 1,
   "metadata": {},
   "outputs": [],
   "source": [
    "import numpy as np\n",
    "from sklearn.metrics import confusion_matrix\n",
    "import pandas as pd\n",
    "import time\n",
    "from sklearn.model_selection import train_test_split\n",
    "from sklearn.feature_extraction.text import TfidfVectorizer\n",
    "from sklearn.tree import DecisionTreeClassifier\n",
    "from sklearn.ensemble import RandomForestClassifier\n",
    "from sklearn.model_selection import train_test_split, GridSearchCV\n",
    "from sklearn.linear_model import LogisticRegression\n",
    "from sklearn.naive_bayes import MultinomialNB\n",
    "import matplotlib.pyplot as plt\n",
    "%matplotlib inline"
   ]
  },
  {
   "cell_type": "code",
   "execution_count": 2,
   "metadata": {},
   "outputs": [],
   "source": [
    "train_df = pd.read_csv('./datas/train_df.csv')\n",
    "test_df = pd.read_csv('./datas/test_df.csv')\n",
    "X_test = pd.read_csv('./datas/X_test.csv', index_col=0)\n",
    "y_train = pd.read_csv('./datas/y_train.csv', header=None, index_col=0)\n",
    "y_test = pd.read_csv('./datas/y_test.csv', header=None, index_col=0)\n",
    "y = pd.read_csv('./datas/y.csv', header=None)"
   ]
  },
  {
   "cell_type": "code",
   "execution_count": 3,
   "metadata": {},
   "outputs": [],
   "source": [
    "train_df.drop('Unnamed: 0', axis=1, inplace=True)\n",
    "test_df.drop('Unnamed: 0', axis=1, inplace=True)"
   ]
  },
  {
   "cell_type": "markdown",
   "metadata": {},
   "source": [
    "### Baseline Model"
   ]
  },
  {
   "cell_type": "markdown",
   "metadata": {},
   "source": [
    "**What is this?**\n",
    "- This is our baseline model. The 1's represent there are 50.0075% of rainbow6 context and 49.9925% of Lol context in our dataset. This is good, because this tells us that our model is very evenly distributed.  Our base goal is to fit our data into several models and get the accuracy score that is higher than 50.0075%. In that case, we will know we are doing better than the baseline."
   ]
  },
  {
   "cell_type": "code",
   "execution_count": 4,
   "metadata": {},
   "outputs": [
    {
     "data": {
      "text/plain": [
       "1    0.500075\n",
       "0    0.499925\n",
       "Name: 0, dtype: float64"
      ]
     },
     "execution_count": 4,
     "metadata": {},
     "output_type": "execute_result"
    }
   ],
   "source": [
    "y[0].value_counts(normalize=True)"
   ]
  },
  {
   "cell_type": "markdown",
   "metadata": {},
   "source": [
    "## Machine Learning Model: Logistic Regression\n",
    "---"
   ]
  },
  {
   "cell_type": "markdown",
   "metadata": {},
   "source": [
    "\n",
    "**Why/why not this model?**\n",
    "- I've used Grid Search to perform different parameter of C, and in result 3.0 gave the best result. \n",
    "- The parameter C is the the inverse of regularization strength in Logistic Regression. \n",
    "- The reason why I choose this model as my final, because to be able to interpret if a player is playing lol or rainbow6, our expectation for our model is high accuracy. In this case the Logistic Regression's result gave us an accuracy of **89.148**, which is higher than Random Forest Classifier's accuracy.\n"
   ]
  },
  {
   "cell_type": "code",
   "execution_count": 5,
   "metadata": {},
   "outputs": [],
   "source": [
    "params = {'C': [1.0, 2.0, 3.0, 4.0]}"
   ]
  },
  {
   "cell_type": "code",
   "execution_count": 6,
   "metadata": {},
   "outputs": [
    {
     "name": "stdout",
     "output_type": "stream",
     "text": [
      "Time Spent: 1 mins\n"
     ]
    }
   ],
   "source": [
    "start_time = time.time()\n",
    "gs_lr = GridSearchCV(LogisticRegression(random_state=42, solver='lbfgs'), \n",
    "                  param_grid=params, \n",
    "                  return_train_score=False,\n",
    "                  cv=5)\n",
    "gs_lr.fit(train_df, y_train.values.ravel())\n",
    "print(f'Time Spent: {round((time.time()-start_time)/60)} mins')"
   ]
  },
  {
   "cell_type": "code",
   "execution_count": 7,
   "metadata": {},
   "outputs": [
    {
     "data": {
      "text/plain": [
       "{'C': 3.0}"
      ]
     },
     "execution_count": 7,
     "metadata": {},
     "output_type": "execute_result"
    }
   ],
   "source": [
    "gs_lr.best_params_"
   ]
  },
  {
   "cell_type": "code",
   "execution_count": 8,
   "metadata": {},
   "outputs": [
    {
     "data": {
      "text/plain": [
       "0.9449842812232067"
      ]
     },
     "execution_count": 8,
     "metadata": {},
     "output_type": "execute_result"
    }
   ],
   "source": [
    "gs_lr.score(train_df, y_train)"
   ]
  },
  {
   "cell_type": "code",
   "execution_count": 9,
   "metadata": {},
   "outputs": [
    {
     "data": {
      "text/plain": [
       "0.8914819136522754"
      ]
     },
     "execution_count": 9,
     "metadata": {},
     "output_type": "execute_result"
    }
   ],
   "source": [
    "gs_lr.score(test_df, y_test)"
   ]
  },
  {
   "cell_type": "code",
   "execution_count": 10,
   "metadata": {},
   "outputs": [
    {
     "data": {
      "text/plain": [
       "array([['I think of double triple matting a a high risk high reward play It feel like you re a god when it work out for youJackal s Footprint Graph'],\n",
       "       ['we were gold meta wa mid gold I wa plat I wa M OPLuison ANANA'],\n",
       "       ['I wonder what he wa thinking lolLife s Mysteries'],\n",
       "       ['For fighting game it all come down to preferance Take Blitz back to a Armor SpeedThis motherfucker is beyond annoying I feel cheated every time he kill me He need to be slowed down I don t care about the win delta with him he make playing Siege not fun'],\n",
       "       ['All he did wa make a joke about upvotes he didnt ask for them Players with actual porn in profile portrait So I can t imagine that s allowable What d be the best way to go about reported that Screenshot every single one of them and open a ticket I don t mean the player with suggestive anime portrait artwork hentai'],\n",
       "       ['Yes from a long time ago Top Anime Plot Twist'],\n",
       "       ['Doesnt even matter if it a head shotWhat doe lesion mean with coffee and sock It s been a while I wonder what he mean for coffee and sock lesion I d be curious to know what he mean Thank you guy'],\n",
       "       ['It s the fbi m shotgun The ARX s Irons are the same a bandit s iron You re welcome'],\n",
       "       ['Why dont u jst play soloq thunt Buck s c sfw'],\n",
       "       ['You ve also been playing since day That s awesomeNot ranking up or down for day straight']],\n",
       "      dtype=object)"
      ]
     },
     "execution_count": 10,
     "metadata": {},
     "output_type": "execute_result"
    }
   ],
   "source": [
    "X_test[(gs_lr.predict_proba(test_df)[:, 1] < 0.2) & (y_test[1] ==1)].values[:10]"
   ]
  },
  {
   "cell_type": "code",
   "execution_count": 11,
   "metadata": {},
   "outputs": [
    {
     "data": {
      "text/plain": [
       "array([['Drugs What happened to Vigil getting an esports outfit I m looking everywhere trying to figure out why I haven t heard about Siege not following through with his esports uniform kit Did they decide not to release it or am I missing it somewhere'],\n",
       "       ['The wiggle zoom in made the video time better Is anyone else experiencing insane ping on XB Me and my friend have played game all with plus ping while the other team is normal Normally I d think this wa some kind if error but it affecting gameplay too'],\n",
       "       ['Seems so I wonder why tho What have they done to upset this subreddit It s not like I m not watching all of their video and they were never toxic in any of the one I watched They only tk each other iq sound on'],\n",
       "       ['kill assist and a win get you kTalk about a stress reliever'],\n",
       "       ['These always look nice but I prefer the more subdued skin that don t make you stand out so much or at least are bright stand offish color like this We had a whole ranked match of ultimate lag but Castle seemed to enjoy himself amp x B video jjl eepq g'],\n",
       "       ['I read the title with add in jgWhy is this a banned word Whore Like I know it s a bad word but it s on the same level a cunt for me Calling my mate who fuck around that shouldn t be a bannable word'],\n",
       "       ['Asking the real questionsAnyone else having this'],\n",
       "       ['bruh why d they give Lion a skin nobody even like him Canadian get yeeted while reinforcing'],\n",
       "       ['How is this relevant I m just interested on what operator people play How do you properly say montagne I just don t get it'],\n",
       "       ['Where do you know those statistic from I got a scuff myself Which is allowed in tournament play btw Where is SK Gaming Uniform and Headgear For Twitch']],\n",
       "      dtype=object)"
      ]
     },
     "execution_count": 11,
     "metadata": {},
     "output_type": "execute_result"
    }
   ],
   "source": [
    "X_test[(gs_lr.predict_proba(test_df)[:, 1] > 0.4) & (gs_lr.predict_proba(test_df)[:, 1] < 0.6) & (y_test[1] ==1)].values[:10]"
   ]
  },
  {
   "cell_type": "code",
   "execution_count": 13,
   "metadata": {},
   "outputs": [],
   "source": [
    "feat_importance = pd.DataFrame(np.exp(gs_lr.best_estimator_.coef_).T, train_df.columns, columns=['importance'])"
   ]
  },
  {
   "cell_type": "markdown",
   "metadata": {},
   "source": [
    "**What does these words represent?**\n",
    "\n",
    "It represent how many times the words are less likely to fall into our positive class, which is Rainbow 6. Let's take a closer look of the first Four.\n",
    "\n",
    "- By looking at the lowest, which is **euw**. This means if the word **euw** appeared in the context like submissions or comments, this context are approximately 0.0055 times more likely(which is less likely) to be our positive class (rainbow six). euw means lagging, which league of legends player likes to say. \n",
    "\n",
    "- Secondly, **client**. In the league of legends subreddit, they often discuss client updates a lot. comparing with rainbow six, they don't describe the updates as client update, instead they say path updates. \n",
    "\n",
    "- Third, **ult**, ult means ultimate in League of Legends. This is referring to the skills people use the most in the league of legends community. There's no ultimate comparing with Rainbow Six. So this is a good finding.\n",
    "\n",
    "- Lastly, **iron**. In League of legends, they differentiate the ability of player by divisions of badges. The badge's material demonstrate how good the player are. Iron, Bronze, Silver, Gold, Platinum, Diamond, Master, Grandmaster and Challenger. So, people in the league of legends community like to call other player as iron, meaning they're bad.\n",
    "\n",
    "Based on the top three, we can confidently conclude that this model works and provided a high accuracy.\n",
    "\n"
   ]
  },
  {
   "cell_type": "code",
   "execution_count": 14,
   "metadata": {},
   "outputs": [
    {
     "data": {
      "text/plain": [
       "(array([0.    , 0.0005, 0.001 , 0.0015, 0.002 , 0.0025, 0.003 , 0.0035,\n",
       "        0.004 , 0.0045]), <a list of 10 Text xticklabel objects>)"
      ]
     },
     "execution_count": 14,
     "metadata": {},
     "output_type": "execute_result"
    },
    {
     "data": {
      "image/png": "[encoded data removed]",
      "text/plain": [
       "<Figure size 1440x720 with 1 Axes>"
      ]
     },
     "metadata": {
      "needs_background": "light"
     },
     "output_type": "display_data"
    }
   ],
   "source": [
    "plt.figure(figsize=(20,10))\n",
    "temp = feat_importance.sort_values('importance', ascending=True).head(10)\n",
    "plt.barh(temp.index, temp['importance'])\n",
    "plt.title('Top 10 Features for Negative Class', fontsize=30)\n",
    "plt.xlabel('Odds Ratio', fontsize=20)\n",
    "plt.ylabel('Feature', fontsize=20)\n",
    "plt.yticks(fontsize=20)\n",
    "plt.xticks(fontsize=20)"
   ]
  },
  {
   "cell_type": "markdown",
   "metadata": {},
   "source": [
    "**What does these words represent?**\n",
    "\n",
    "It represent how many times the words are more likely to fall into our positive class, which is Rainbow 6. Let's take a closer look of the first three.\n",
    "\n",
    "- By looking at the highest, which is **casual**. This means if the word **causal** appear in the context like submissions or comments, this context are approximately 125 times more likely to be our positive class (talking about rainbow six). After researching, this is true. Because causal is considered as one of the game mode in Rainbow Six. \n",
    "\n",
    "- Secondly, **Console**. Players can play rainbow six either on console or pc, comparing with league of legends. League of legends only offer on PC only. So comparing with our negative class, the word **Console** is approximately 120 times more likely to appear in Rainbow Six instead.\n",
    "\n",
    "- Third, **Round**. In Rainbow six you'll be assigned into two sides. Attack side or Defense side. So after a **round** is over, they will switch sides. Therefore, the player that used the word **round** in the context will be approximately 80 time more likely to fall to our positive class. Whereas, League of Legends doesn't have rounds. It's either one game or the other. \n",
    "\n",
    "Based on the top three, we can confidently conclude that this model works and provided a high accuracy.\n",
    "\n",
    " \n"
   ]
  },
  {
   "cell_type": "code",
   "execution_count": 36,
   "metadata": {},
   "outputs": [
    {
     "data": {
      "text/plain": [
       "(array([  0.,  20.,  40.,  60.,  80., 100., 120., 140.]),\n",
       " <a list of 8 Text xticklabel objects>)"
      ]
     },
     "execution_count": 36,
     "metadata": {},
     "output_type": "execute_result"
    },
    {
     "data": {
      "image/png": "[encoded data removed]",
      "text/plain": [
       "<Figure size 1440x720 with 1 Axes>"
      ]
     },
     "metadata": {
      "needs_background": "light"
     },
     "output_type": "display_data"
    }
   ],
   "source": [
    "plt.figure(figsize=(20,10))\n",
    "temp = feat_importance.sort_values('importance', ascending=False).head(10)\n",
    "plt.barh(temp.index, temp['importance'])\n",
    "plt.title('Top 10 Features for Positive Class', fontsize=30)\n",
    "plt.xlabel('Odds Ratio', fontsize=20)\n",
    "plt.ylabel('Feature', fontsize=20)\n",
    "plt.yticks(fontsize=20)\n",
    "plt.xticks(fontsize=20)"
   ]
  },
  {
   "cell_type": "code",
   "execution_count": 17,
   "metadata": {},
   "outputs": [
    {
     "name": "stdout",
     "output_type": "stream",
     "text": [
      "True Negatives: 2644\n",
      "False Positives: 355\n",
      "False Negatives: 296\n",
      "True Positives: 2704\n"
     ]
    }
   ],
   "source": [
    "predictions_lr = gs_lr.predict(test_df)\n",
    "tn, fp, fn, tp = confusion_matrix(y_test, predictions_lr).ravel()\n",
    "print(\"True Negatives: %s\" % tn)\n",
    "print(\"False Positives: %s\" % fp)\n",
    "print(\"False Negatives: %s\" % fn)\n",
    "print(\"True Positives: %s\" % tp)"
   ]
  },
  {
   "cell_type": "markdown",
   "metadata": {},
   "source": [
    "## Machine Learning Model: Random Forest Classifier\n",
    "---"
   ]
  },
  {
   "cell_type": "markdown",
   "metadata": {},
   "source": [
    "\n",
    "**Why/why not this model?**\n",
    "- I've used Grid Search to perform different parameter of Min_sample_split, and max_depth in result it gave the best result. of max_depth of None and min_samples_split of 7\n",
    "- The reason why I did not choose this model as my final, because to be able to interpret if a player is playing lol or rainbow6, our expectation for our model is high accuracy. In this case the Random Forest Classifier's result gave us an accuracy of **86.764**, which is lower than Logistic Regression's accuracy.\n"
   ]
  },
  {
   "cell_type": "code",
   "execution_count": 38,
   "metadata": {},
   "outputs": [],
   "source": [
    "params = {\n",
    "    'min_samples_split': [2,3,5,7,10],\n",
    "    'max_depth': [None, 1, 2, 3, 4]\n",
    "}"
   ]
  },
  {
   "cell_type": "code",
   "execution_count": 39,
   "metadata": {},
   "outputs": [
    {
     "name": "stdout",
     "output_type": "stream",
     "text": [
      "Time Spent: 9 mins\n"
     ]
    }
   ],
   "source": [
    "start_time = time.time()\n",
    "gs = GridSearchCV(RandomForestClassifier(n_estimators=100), \n",
    "                  param_grid=params, \n",
    "                  return_train_score=False,\n",
    "                  cv=5)\n",
    "gs.fit(train_df, y_train.values.ravel())\n",
    "print(f'Time Spent: {round((time.time()-start_time)/60)} mins')"
   ]
  },
  {
   "cell_type": "code",
   "execution_count": 40,
   "metadata": {},
   "outputs": [
    {
     "data": {
      "text/plain": [
       "0.9972849385538726"
      ]
     },
     "execution_count": 40,
     "metadata": {},
     "output_type": "execute_result"
    }
   ],
   "source": [
    "gs.score(train_df, y_train.values.ravel())"
   ]
  },
  {
   "cell_type": "code",
   "execution_count": 41,
   "metadata": {},
   "outputs": [
    {
     "data": {
      "text/plain": [
       "0.8676446074345724"
      ]
     },
     "execution_count": 41,
     "metadata": {},
     "output_type": "execute_result"
    }
   ],
   "source": [
    "gs.score(test_df, y_test)"
   ]
  },
  {
   "cell_type": "code",
   "execution_count": 42,
   "metadata": {},
   "outputs": [
    {
     "data": {
      "text/plain": [
       "{'max_depth': None, 'min_samples_split': 7}"
      ]
     },
     "execution_count": 42,
     "metadata": {},
     "output_type": "execute_result"
    }
   ],
   "source": [
    "gs.best_params_"
   ]
  }
 ],
 "metadata": {
  "kernelspec": {
   "display_name": "Python 3",
   "language": "python",
   "name": "python3"
  },
  "language_info": {
   "codemirror_mode": {
    "name": "ipython",
    "version": 3
   },
   "file_extension": ".py",
   "mimetype": "text/x-python",
   "name": "python",
   "nbconvert_exporter": "python",
   "pygments_lexer": "ipython3",
   "version": "3.6.8"
  }
 },
 "nbformat": 4,
 "nbformat_minor": 2
}
